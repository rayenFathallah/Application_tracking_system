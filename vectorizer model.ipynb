{
 "cells": [
  {
   "cell_type": "code",
   "execution_count": 21,
   "id": "16c65d2c",
   "metadata": {},
   "outputs": [
    {
     "name": "stderr",
     "output_type": "stream",
     "text": [
      "[nltk_data] Downloading package punkt to\n",
      "[nltk_data]     C:\\Users\\rayen\\AppData\\Roaming\\nltk_data...\n",
      "[nltk_data]   Package punkt is already up-to-date!\n"
     ]
    },
    {
     "data": {
      "text/plain": [
       "True"
      ]
     },
     "execution_count": 21,
     "metadata": {},
     "output_type": "execute_result"
    }
   ],
   "source": [
    "from gensim.models.doc2vec import Doc2Vec, TaggedDocument\n",
    "from nltk.tokenize import word_tokenize\n",
    "from numpy.linalg import norm\n",
    "import pandas as pd\n",
    "import numpy as np\n",
    "import requests\n",
    "import re\n",
    "import multiprocessing\n",
    "import plotly.graph_objects as go\n",
    "import nltk\n",
    "nltk.download('punkt')"
   ]
  },
  {
   "cell_type": "code",
   "execution_count": 24,
   "id": "e668767c",
   "metadata": {},
   "outputs": [],
   "source": [
    "jd_data = pd.read_csv('data/jobs_data/JobsDataset.csv') \n",
    "jd_data.drop(['ID','Query'], axis=1, inplace=True)\n",
    "jd_data['data'] = jd_data[['Job Title','Description']].apply(lambda x: ' '.join(x.dropna().astype(str)), axis=1)\n",
    "tagged_data = [TaggedDocument(words = word_tokenize(_d.lower()), tags = [str(i)]) for i, _d in enumerate(jd_data['data'])]\n",
    "model = Doc2Vec(vector_size = 50,\n",
    "min_count = 3,\n",
    "epochs = 40,\n",
    "alpha = 0.001,\n",
    "workers = 4\n",
    ")\n",
    "model.build_vocab(tagged_data)"
   ]
  },
  {
   "cell_type": "code",
   "execution_count": 15,
   "id": "869e4b49",
   "metadata": {},
   "outputs": [
    {
     "data": {
      "text/html": [
       "<div>\n",
       "<style scoped>\n",
       "    .dataframe tbody tr th:only-of-type {\n",
       "        vertical-align: middle;\n",
       "    }\n",
       "\n",
       "    .dataframe tbody tr th {\n",
       "        vertical-align: top;\n",
       "    }\n",
       "\n",
       "    .dataframe thead th {\n",
       "        text-align: right;\n",
       "    }\n",
       "</style>\n",
       "<table border=\"1\" class=\"dataframe\">\n",
       "  <thead>\n",
       "    <tr style=\"text-align: right;\">\n",
       "      <th></th>\n",
       "      <th>Job Title</th>\n",
       "      <th>Description</th>\n",
       "      <th>data</th>\n",
       "    </tr>\n",
       "  </thead>\n",
       "  <tbody>\n",
       "    <tr>\n",
       "      <th>0</th>\n",
       "      <td>Junior Data Scientist Apprenticeship</td>\n",
       "      <td>Job Description As a Junior Data Scientist at ...</td>\n",
       "      <td>Junior Data Scientist Apprenticeship Job Descr...</td>\n",
       "    </tr>\n",
       "    <tr>\n",
       "      <th>1</th>\n",
       "      <td>HBO Data Scientist, Content Science</td>\n",
       "      <td>OVERALL SUMMARY As a Data Scientist on the Dat...</td>\n",
       "      <td>HBO Data Scientist, Content Science OVERALL SU...</td>\n",
       "    </tr>\n",
       "    <tr>\n",
       "      <th>2</th>\n",
       "      <td>Junior Data Scientist</td>\n",
       "      <td>The Team: The Data science team is a newly for...</td>\n",
       "      <td>Junior Data Scientist The Team: The Data scie...</td>\n",
       "    </tr>\n",
       "    <tr>\n",
       "      <th>3</th>\n",
       "      <td>Jr Data Scientist</td>\n",
       "      <td>We now have a need for junior Data Scientist(s...</td>\n",
       "      <td>Jr Data Scientist We now have a need for junio...</td>\n",
       "    </tr>\n",
       "    <tr>\n",
       "      <th>4</th>\n",
       "      <td>Data Scientist, Premium Content</td>\n",
       "      <td>Do you want to help guide the core business of...</td>\n",
       "      <td>Data Scientist, Premium Content Do you want t...</td>\n",
       "    </tr>\n",
       "    <tr>\n",
       "      <th>...</th>\n",
       "      <td>...</td>\n",
       "      <td>...</td>\n",
       "      <td>...</td>\n",
       "    </tr>\n",
       "    <tr>\n",
       "      <th>9993</th>\n",
       "      <td>Learning Architect</td>\n",
       "      <td>The opportunity Our customers understand that ...</td>\n",
       "      <td>Learning Architect The opportunity Our custome...</td>\n",
       "    </tr>\n",
       "    <tr>\n",
       "      <th>9994</th>\n",
       "      <td>Systems Architect</td>\n",
       "      <td>The NASA Ames Research Center has the requirem...</td>\n",
       "      <td>Systems Architect The NASA Ames Research Cente...</td>\n",
       "    </tr>\n",
       "    <tr>\n",
       "      <th>9995</th>\n",
       "      <td>Hardware Architect</td>\n",
       "      <td>What You'll Do Distinguished Engineer with pro...</td>\n",
       "      <td>Hardware Architect What You'll Do Distinguish...</td>\n",
       "    </tr>\n",
       "    <tr>\n",
       "      <th>9996</th>\n",
       "      <td>Software Development Engineer, Full Stack – E...</td>\n",
       "      <td>Software Development Engineer, Full Stack – En...</td>\n",
       "      <td>Software Development Engineer, Full Stack – E...</td>\n",
       "    </tr>\n",
       "    <tr>\n",
       "      <th>9997</th>\n",
       "      <td>Architect</td>\n",
       "      <td>Architect San Francisco, CA Leading provider o...</td>\n",
       "      <td>Architect Architect San Francisco, CA Leading ...</td>\n",
       "    </tr>\n",
       "  </tbody>\n",
       "</table>\n",
       "<p>9998 rows × 3 columns</p>\n",
       "</div>"
      ],
      "text/plain": [
       "                                              Job Title  \\\n",
       "0                  Junior Data Scientist Apprenticeship   \n",
       "1                   HBO Data Scientist, Content Science   \n",
       "2                                 Junior Data Scientist   \n",
       "3                                     Jr Data Scientist   \n",
       "4                       Data Scientist, Premium Content   \n",
       "...                                                 ...   \n",
       "9993                                 Learning Architect   \n",
       "9994                                  Systems Architect   \n",
       "9995                                 Hardware Architect   \n",
       "9996   Software Development Engineer, Full Stack – E...   \n",
       "9997                                          Architect   \n",
       "\n",
       "                                            Description  \\\n",
       "0     Job Description As a Junior Data Scientist at ...   \n",
       "1     OVERALL SUMMARY As a Data Scientist on the Dat...   \n",
       "2     The Team: The Data science team is a newly for...   \n",
       "3     We now have a need for junior Data Scientist(s...   \n",
       "4     Do you want to help guide the core business of...   \n",
       "...                                                 ...   \n",
       "9993  The opportunity Our customers understand that ...   \n",
       "9994  The NASA Ames Research Center has the requirem...   \n",
       "9995  What You'll Do Distinguished Engineer with pro...   \n",
       "9996  Software Development Engineer, Full Stack – En...   \n",
       "9997  Architect San Francisco, CA Leading provider o...   \n",
       "\n",
       "                                                   data  \n",
       "0     Junior Data Scientist Apprenticeship Job Descr...  \n",
       "1     HBO Data Scientist, Content Science OVERALL SU...  \n",
       "2      Junior Data Scientist The Team: The Data scie...  \n",
       "3     Jr Data Scientist We now have a need for junio...  \n",
       "4      Data Scientist, Premium Content Do you want t...  \n",
       "...                                                 ...  \n",
       "9993  Learning Architect The opportunity Our custome...  \n",
       "9994  Systems Architect The NASA Ames Research Cente...  \n",
       "9995   Hardware Architect What You'll Do Distinguish...  \n",
       "9996   Software Development Engineer, Full Stack – E...  \n",
       "9997  Architect Architect San Francisco, CA Leading ...  \n",
       "\n",
       "[9998 rows x 3 columns]"
      ]
     },
     "execution_count": 15,
     "metadata": {},
     "output_type": "execute_result"
    }
   ],
   "source": [
    "jd_data"
   ]
  },
  {
   "cell_type": "code",
   "execution_count": 25,
   "id": "9ac2bc3b",
   "metadata": {},
   "outputs": [
    {
     "name": "stdout",
     "output_type": "stream",
     "text": [
      "27351\n"
     ]
    }
   ],
   "source": [
    "# Vocabulary building\n",
    "model.build_vocab(tagged_data)\n",
    "# Get the vocabulary keys\n",
    "keys = model.wv.key_to_index.keys()\n",
    "# Print the length of the vocabulary keys\n",
    "print(len(keys))"
   ]
  },
  {
   "cell_type": "code",
   "execution_count": 23,
   "id": "53924a04",
   "metadata": {},
   "outputs": [
    {
     "data": {
      "text/plain": [
       "16"
      ]
     },
     "execution_count": 23,
     "metadata": {},
     "output_type": "execute_result"
    }
   ],
   "source": [
    "num_workers = multiprocessing.cpu_count()  # Use all available cores (4 in your case)\n",
    "num_workers"
   ]
  },
  {
   "cell_type": "code",
   "execution_count": 26,
   "id": "75c3b470",
   "metadata": {},
   "outputs": [
    {
     "name": "stdout",
     "output_type": "stream",
     "text": [
      "Training epoch 1/40\n",
      "Training epoch 2/40\n",
      "Training epoch 3/40\n",
      "Training epoch 4/40\n",
      "Training epoch 5/40\n",
      "Training epoch 6/40\n",
      "Training epoch 7/40\n",
      "Training epoch 8/40\n",
      "Training epoch 9/40\n",
      "Training epoch 10/40\n",
      "Training epoch 11/40\n",
      "Training epoch 12/40\n",
      "Training epoch 13/40\n",
      "Training epoch 14/40\n",
      "Training epoch 15/40\n",
      "Training epoch 16/40\n",
      "Training epoch 17/40\n",
      "Training epoch 18/40\n",
      "Training epoch 19/40\n",
      "Training epoch 20/40\n",
      "Training epoch 21/40\n",
      "Training epoch 22/40\n",
      "Training epoch 23/40\n",
      "Training epoch 24/40\n",
      "Training epoch 25/40\n",
      "Training epoch 26/40\n",
      "Training epoch 27/40\n",
      "Training epoch 28/40\n",
      "Training epoch 29/40\n",
      "Training epoch 30/40\n",
      "Training epoch 31/40\n",
      "Training epoch 32/40\n",
      "Training epoch 33/40\n",
      "Training epoch 34/40\n",
      "Training epoch 35/40\n",
      "Training epoch 36/40\n",
      "Training epoch 37/40\n",
      "Training epoch 38/40\n",
      "Training epoch 39/40\n",
      "Training epoch 40/40\n",
      "Model saved\n"
     ]
    }
   ],
   "source": [
    "# Train the model\n",
    "for epoch in range(model.epochs):\n",
    "    print(f\"Training epoch {epoch+1}/{model.epochs}\")\n",
    "    model.train(tagged_data, \n",
    "                total_examples=model.corpus_count, \n",
    "                epochs=model.epochs)\n",
    "\n",
    "model.save('cv_job_maching.model')\n",
    "print(\"Model saved\")"
   ]
  },
  {
   "cell_type": "code",
   "execution_count": 28,
   "id": "5f0aea8a",
   "metadata": {},
   "outputs": [],
   "source": [
    "def preprocess_text(text):\n",
    "    # Convert the text to lowercase\n",
    "    text = text.lower()\n",
    "    \n",
    "    # Remove punctuation from the text\n",
    "    text = re.sub('[^a-z]', ' ', text)\n",
    "    \n",
    "    # Remove numerical values from the text\n",
    "    text = re.sub(r'\\d+', '', text)\n",
    "    \n",
    "    # Remove extra whitespaces\n",
    "    text = ' '.join(text.split())\n",
    "    \n",
    "    return \n",
    "def remove_accents(input_string):\n",
    "    accents = {'é': 'e', 'è': 'e', 'ê': 'e', 'ë': 'e', 'É': 'E', 'È': 'E', 'Ê': 'E', 'Ë': 'E',\n",
    "        'à': 'a',\n",
    "        'â': 'a',\n",
    "        'ç': 'c',\n",
    "        'î': 'i',\n",
    "        'ï': 'i',\n",
    "        'ô': 'o',\n",
    "        'ù': 'u',\n",
    "        'û': 'u'\n",
    "        # Add more replacements as needed\n",
    "    }\n",
    "def remove_initial_newlines(text):\n",
    "    sentence_found = False\n",
    "    new_text = ''\n",
    "\n",
    "    for char in text:\n",
    "        if not sentence_found:\n",
    "            if char == '\\n':\n",
    "                continue\n",
    "            else:\n",
    "                sentence_found = True\n",
    "                new_text += char\n",
    "        else:\n",
    "            new_text += char\n",
    "\n",
    "    return new_text\n",
    "def remove_first_lines(text):\n",
    "    first_lines_removed= remove_initial_newlines(text)\n",
    "    return '\\n'.join(first_lines_removed.split('\\n', 1)[1:])"
   ]
  },
  {
   "cell_type": "code",
   "execution_count": null,
   "id": "3f81d920",
   "metadata": {},
   "outputs": [],
   "source": [
    "import sys\n",
    "sys.path.append('..')\n",
    "from tika import parser\n",
    "def read_file(file,path):\n",
    "  \"\"\"Reads a file and returns the content.\"\"\"\n",
    "  try:\n",
    "    parsed_pdf = parser.from_file(path+'/'+file)\n",
    "    non_accent = remove_accents(parsed_pdf['content'].lower())\n",
    "    return remove_first_lines(non_accent) \n",
    "  except Exception as e:\n",
    "    # Catch any other exceptions and log error message\n",
    "    logging.error(\"Error while reading the file: \" + str(e))\n",
    "    return None\n"
   ]
  },
  {
   "cell_type": "code",
   "execution_count": null,
   "id": "a8801330",
   "metadata": {},
   "outputs": [],
   "source": [
    "# Apply to CV and JD\n",
    "\n",
    "input_CV = preprocess_text(resume)\n",
    "input_JD = preprocess_text(jd)"
   ]
  }
 ],
 "metadata": {
  "kernelspec": {
   "display_name": "Python 3 (ipykernel)",
   "language": "python",
   "name": "python3"
  },
  "language_info": {
   "codemirror_mode": {
    "name": "ipython",
    "version": 3
   },
   "file_extension": ".py",
   "mimetype": "text/x-python",
   "name": "python",
   "nbconvert_exporter": "python",
   "pygments_lexer": "ipython3",
   "version": "3.11.4"
  }
 },
 "nbformat": 4,
 "nbformat_minor": 5
}
